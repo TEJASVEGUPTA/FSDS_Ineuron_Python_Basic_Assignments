{
 "cells": [
  {
   "cell_type": "markdown",
   "id": "2b691a7e",
   "metadata": {},
   "source": [
    "## 1. What advantages do Excel spreadsheets have over CSV spreadsheets?\n",
    "### Ans: The Advantages of Excel over CSV are:\n",
    "\n",
    "1. Excel (XLS and XLSX) file formats are better for storing and analysing complex data.\n",
    "2. An Excel not only stores data but can also do operations on the data using macros, formulas etc\n",
    "3. CSV files are plain-text files, Does not contain formatting, formulas, macros, etc. It is also known as flat files"
   ]
  },
  {
   "cell_type": "markdown",
   "id": "e54f2fd8",
   "metadata": {},
   "source": [
    "## 2.What do you pass to csv.reader() and csv.writer() to create reader and writer objects?\n"
   ]
  },
  {
   "cell_type": "code",
   "execution_count": 2,
   "id": "ea7cfe36",
   "metadata": {},
   "outputs": [
    {
     "name": "stdout",
     "output_type": "stream",
     "text": [
      "['a', 'b', 'c', 'd', 'e', 'f']\n",
      "['1960', '5.554', '0.441', '0.3193', '3.089', '1.481']\n",
      "['1961', '5.465', '0.46', '0.3079', '3.122', '1.736']\n",
      "['1962', '5.825', '0.485', '0.3783', '3.184', '1.926']\n",
      "['1963', '6.876', '0.506', '0.418', '3.263', '2.041']\n",
      "['1964', '7.823', '0.538', '0.5163', '3.412', '1.997']\n",
      "['1965', '9.12', '0.564', '0.5879', '3.623', '2.257']\n",
      "['1966', '10.512', '0.586', '0.5369', '4.074', '2.742']\n",
      "['1967', '13.02', '0.622', '0.4443', '4.71', '3.564']\n",
      "['1968', '15.261', '0.666', '0.3052', '5.217', '4.767']\n",
      "['1969', '16.313', '0.731', '0.2332', '5.569', '6.511']\n",
      "['1970', '16.002', '0.831', '0.1883', '5.495', '7.627']\n",
      "['1971', '15.876', '0.906', '0.2023', '5.334', '8.673']\n",
      "['1972', '16.662', '1.0', '0.2506', '5.345', '8.331']\n",
      "['1973', '17.014', '1.056', '0.2668', '5.662', '8.557']\n",
      "['1974', '19.305', '1.131', '0.2664', '5.729', '9.508']\n",
      "['1975', '18.721', '1.247', '0.2301', '5.722', '9.062']\n"
     ]
    }
   ],
   "source": [
    "import csv\n",
    "with open('test1.csv','r') as file:\n",
    "    csv_file = csv.reader(file,delimiter=',')\n",
    "    for ele in csv_file:\n",
    "        print(ele)"
   ]
  },
  {
   "cell_type": "markdown",
   "id": "e20fbe78",
   "metadata": {},
   "source": [
    "## 3. What modes do File objects for reader and writer objects need to be opened in?\n",
    "## Ans: \n",
    "### For csv.reader(iterable_file_object), the file objects needed to be opened in read mode mode='r' Whereas for csv.writer(iterable_file_object) the file objects needed to be opened in write mode mode='w'"
   ]
  },
  {
   "cell_type": "markdown",
   "id": "37f66fa2",
   "metadata": {},
   "source": [
    "## 4. What method takes a list argument and writes it to a CSV file?\n",
    "## Ans: \n",
    "* csv.writer class provides two methods for writing to CSV. They are writerow() and writerows(). writerow() method writes a single row at a time. Whereas writerows() method is used to write multiple rows at a time."
   ]
  },
  {
   "cell_type": "code",
   "execution_count": 3,
   "id": "bcd86d05",
   "metadata": {},
   "outputs": [],
   "source": [
    "# Example Program\n",
    "import csv      \n",
    "fields = ['Name', 'Branch', 'Year', 'CGPA'] #column names \n",
    "rows = [ \n",
    "            ['Tejasve', 'CS', '2', '9.0'],  # data rows of csv file \n",
    "            ['Shikhar', 'CS', '2', '9.1'], \n",
    "            ['Shivansh', 'IT', '2', '9.3']\n",
    "       ] \n",
    "with open(\"university_records.csv\", 'w') as csvfile: \n",
    "    csvwriter = csv.writer(csvfile) # creating a csv writer object \n",
    "    csvwriter.writerow(fields) # writing the fields \n",
    "    csvwriter.writerows(rows) # writing the data rows "
   ]
  },
  {
   "cell_type": "markdown",
   "id": "235d0a00",
   "metadata": {},
   "source": [
    "## 5. What do the keyword arguments delimiter and line terminator do?\n",
    "## Ans: \n",
    "### Lets take the example of a csv file:\n",
    "First Name, Last Name, Age\n",
    "\n",
    "Tejasve, Gupta, 24\n",
    "\n",
    "Shantanu, Gupta, 25\n",
    "\n",
    "* Here ',' is Delimiter. We can use any Character as per our needs if required. Similarly Line Terminator comes at end of line by default it is newline and can be changed accourding to Requirement."
   ]
  },
  {
   "cell_type": "markdown",
   "id": "4d43a5b6",
   "metadata": {},
   "source": [
    "## 6. What function takes a string of JSON data and returns a Python data structure?\n",
    "## Ans:\n",
    "### loads() method takes a string of JSON data and returns a Python data structure"
   ]
  },
  {
   "cell_type": "code",
   "execution_count": 5,
   "id": "684d955b",
   "metadata": {},
   "outputs": [
    {
     "name": "stdout",
     "output_type": "stream",
     "text": [
      "{\n",
      "    \"Name\": \"Tejasve Gupta\",\n",
      "    \"Qualification\": \"Master of Computer Application\",\n",
      "    \"Stream\": \"Computer Science and Applications\"\n",
      "}\n",
      "Type of my_details_json is <class 'str'>\n",
      "{'Name': 'Tejasve Gupta', 'Qualification': 'Master of Computer Application', 'Stream': 'Computer Science and Applications'}\n",
      "Type of my_details is <class 'dict'>\n"
     ]
    }
   ],
   "source": [
    "# Example of json.loads() method\n",
    "import json\n",
    "my_details_json ='''{\n",
    "    \"Name\": \"Tejasve Gupta\",\n",
    "    \"Qualification\": \"Master of Computer Application\",\n",
    "    \"Stream\": \"Computer Science and Applications\"\n",
    "}'''\n",
    "print(my_details_json)\n",
    "print(f'Type of my_details_json is {type(my_details_json)}')\n",
    "my_details = json.loads(my_details_json)\n",
    "print(my_details)\n",
    "print(f'Type of my_details is {type(my_details)}')"
   ]
  },
  {
   "cell_type": "markdown",
   "id": "0810fdbf",
   "metadata": {},
   "source": [
    "## 7. What function takes a Python data structure and returns a string of JSON data?\n",
    "### Ans: dumps() method takes a python data structure and returns a string of JSON data."
   ]
  },
  {
   "cell_type": "code",
   "execution_count": 6,
   "id": "368933c7",
   "metadata": {},
   "outputs": [
    {
     "name": "stdout",
     "output_type": "stream",
     "text": [
      "{'Name': 'Tejasve Gupta', 'Qualification': 'Master of Computer Application', 'Stream': 'Computer Science and Applications'}\n",
      "Type of my_details is <class 'dict'>\n",
      "{\n",
      "    \"Name\": \"Tejasve Gupta\",\n",
      "    \"Qualification\": \"Master of Computer Application\",\n",
      "    \"Stream\": \"Computer Science and Applications\"\n",
      "}\n",
      "Type of my_details_json is <class 'str'>\n"
     ]
    }
   ],
   "source": [
    "# Example of json.dumps() method\n",
    "import json\n",
    "my_details = {\n",
    "    \"Name\": \"Tejasve Gupta\",\n",
    "    \"Qualification\": \"Master of Computer Application\",\n",
    "    \"Stream\": \"Computer Science and Applications\"\n",
    "}\n",
    "print(my_details)\n",
    "print(f'Type of my_details is {type(my_details)}')\n",
    "my_details_json = json.dumps(my_details, indent=4, sort_keys=True)\n",
    "print(my_details_json)\n",
    "print(f'Type of my_details_json is {type(my_details_json)}')"
   ]
  },
  {
   "cell_type": "code",
   "execution_count": null,
   "id": "497c9bf3",
   "metadata": {},
   "outputs": [],
   "source": []
  }
 ],
 "metadata": {
  "kernelspec": {
   "display_name": "Python 3 (ipykernel)",
   "language": "python",
   "name": "python3"
  },
  "language_info": {
   "codemirror_mode": {
    "name": "ipython",
    "version": 3
   },
   "file_extension": ".py",
   "mimetype": "text/x-python",
   "name": "python",
   "nbconvert_exporter": "python",
   "pygments_lexer": "ipython3",
   "version": "3.9.7"
  }
 },
 "nbformat": 4,
 "nbformat_minor": 5
}

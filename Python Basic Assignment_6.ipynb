{
 "cells": [
  {
   "cell_type": "markdown",
   "id": "7dcb8f0b",
   "metadata": {},
   "source": [
    "## 1. What are escape characters, and how do you use them?"
   ]
  },
  {
   "cell_type": "markdown",
   "id": "0919f84c",
   "metadata": {},
   "source": [
    "### Ans: \n",
    "Escape characters represent characters in string values that would otherwise be difficult or impossible to type into code. we can use the backslash character to escape a single character or symbol\n",
    "## example:\n",
    "\\t, \\n\n"
   ]
  },
  {
   "cell_type": "markdown",
   "id": "c2301dec",
   "metadata": {},
   "source": [
    "## 2.What do the escape characters n and t stand for ?"
   ]
  },
  {
   "cell_type": "markdown",
   "id": "c9f7c26a",
   "metadata": {},
   "source": [
    "## Ans:\n",
    "\\n is a new line, \\t is a tab"
   ]
  },
  {
   "cell_type": "markdown",
   "id": "f98afdfb",
   "metadata": {},
   "source": [
    "### 3.What is the way to include backslash character in a string?"
   ]
  },
  {
   "cell_type": "markdown",
   "id": "8505fd30",
   "metadata": {},
   "source": [
    "### Ans:\n",
    " The \\\\ escape character will represent the backslash character in a string"
   ]
  },
  {
   "cell_type": "markdown",
   "id": "2c58f122",
   "metadata": {},
   "source": [
    "### 4.The string \"Howl's Moving Castle\" is a correct value. Why isn't the single quote character in the word Howl's not escaped a problem ?\n",
    "### Ans:\n",
    "The string \"Howl's Moving Castle\" escaped the problem because it is wrapped inside double quotes. if its wrapped inside single quotes then we have to use escape character \\' to show single quote in the final output\n",
    "'Howl\\'s Moving Castle' -> 'Howl's Moving Castle'"
   ]
  },
  {
   "cell_type": "markdown",
   "id": "27c75c90",
   "metadata": {},
   "source": [
    "### 5.How do you write a string of newlines if you don't want to use the n character?\n",
    "### Ans:\n",
    " Multiline string allow you to use newlines in string without the \\n escape character"
   ]
  },
  {
   "cell_type": "code",
   "execution_count": 1,
   "id": "96ada150",
   "metadata": {},
   "outputs": [
    {
     "name": "stdout",
     "output_type": "stream",
     "text": [
      "iNeuron full stack\n",
      "Data Science Course\n"
     ]
    }
   ],
   "source": [
    "# Example:\n",
    "a = '''iNeuron full stack\n",
    "Data Science Course'''\n",
    "print(a)"
   ]
  },
  {
   "cell_type": "markdown",
   "id": "e806eb0d",
   "metadata": {},
   "source": [
    "### 6.What are the values of the given expressions ?\n",
    "'Hello, world!'[1]\n",
    "\n",
    "'Hello, world!'[0:5]\n",
    "\n",
    "'Hello, world!'[:5]\n",
    "\n",
    "'Hello, world!'[3:]\n",
    "\n",
    "### Ans:\n",
    "The values for the given expressions are:\n",
    "\n",
    "'Hello, world!'[1] -> 'e'\n",
    "\n",
    "'Hello, world!'[0:5] -> 'Hello'\n",
    "\n",
    "'Hello, world!'[:5] -> 'Hello'\n",
    "\n",
    "'Hello, world!'[3:] -> 'lo, world!'"
   ]
  },
  {
   "cell_type": "markdown",
   "id": "a96636a5",
   "metadata": {},
   "source": [
    "### 8.What are the values of the following expressions ?\n",
    "'Remember, remember, the fifith of July.'.split()\n",
    "\n",
    "-'.join('There can only one'.split())\n",
    "\n",
    "### Ans: \n",
    "The values for the given expressions are:\n",
    "\n",
    "'Remember, remember, the fifith of July.'.split() -> ['Remember,', 'remember,', 'the', 'fifith','of', 'July.']\n",
    "\n",
    "'-'.join('There can only one'.split()) -> 'There-can-only-one'\n"
   ]
  },
  {
   "cell_type": "markdown",
   "id": "628c8fd0",
   "metadata": {},
   "source": [
    "### 9.What are the methods for right-justifying, left-justifying and centering a string ?\n",
    "### Ans:\n",
    "The rjust(),ljust(),center() string methods, respectively"
   ]
  },
  {
   "cell_type": "markdown",
   "id": "c17b2f0b",
   "metadata": {},
   "source": [
    "### 10.What is the best way to remove whitespace characters from the start or end ?\n",
    "### Ans:\n",
    "The lstrip() and rstrip() methods remove whitesapce characters from the left and right ends of a string respectively"
   ]
  },
  {
   "cell_type": "code",
   "execution_count": null,
   "id": "e65a27e6",
   "metadata": {},
   "outputs": [],
   "source": []
  }
 ],
 "metadata": {
  "kernelspec": {
   "display_name": "Python 3 (ipykernel)",
   "language": "python",
   "name": "python3"
  },
  "language_info": {
   "codemirror_mode": {
    "name": "ipython",
    "version": 3
   },
   "file_extension": ".py",
   "mimetype": "text/x-python",
   "name": "python",
   "nbconvert_exporter": "python",
   "pygments_lexer": "ipython3",
   "version": "3.9.7"
  }
 },
 "nbformat": 4,
 "nbformat_minor": 5
}

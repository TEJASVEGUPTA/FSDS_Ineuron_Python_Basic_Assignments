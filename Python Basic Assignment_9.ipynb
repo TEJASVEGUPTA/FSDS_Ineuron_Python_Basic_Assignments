{
 "cells": [
  {
   "cell_type": "markdown",
   "id": "333f00d0",
   "metadata": {},
   "source": [
    "## 1.To what does a relative path refer ?\n",
    "## Ans:\n",
    "The relative path is the path to some file with respect to your current working directory (PWD).\n",
    "\n",
    "## For example:\n",
    "if Absolute path to a file called Assignment.txt is: C:/users/admin/docs/Assignment.txt If my PWD is C:/users/admin/ , then the relative path to Assignment.txt would be: docs/Assignment.txt\n",
    "### Note: PWD + relative path = absolute path"
   ]
  },
  {
   "cell_type": "markdown",
   "id": "5a7713aa",
   "metadata": {},
   "source": [
    "## 2.Where does an absolute path start with your Operating System ?\n",
    "## Ans: \n",
    "In Windows based systems absolute path starts with C:"
   ]
  },
  {
   "cell_type": "markdown",
   "id": "55661d28",
   "metadata": {},
   "source": [
    "## 3.What does the functions os.getcwd() and os.chdir() do ?\n",
    "## Ans: \n",
    "os.getcwd() method tells us the location of current working directory (CWD). Whereas os.chdir() method in Python used to change the current working directory to specified path. These functions are similar to linux commands pwd and cd."
   ]
  },
  {
   "cell_type": "code",
   "execution_count": 1,
   "id": "7ca2f020",
   "metadata": {},
   "outputs": [
    {
     "name": "stdout",
     "output_type": "stream",
     "text": [
      "C:\\Users\\tejas\n",
      "C:\\Users\\tejas\\OneDrive\\Desktop\\iNeuron.ai\n"
     ]
    }
   ],
   "source": [
    "import os\n",
    "print(os.getcwd()) # Prints the current Working Directory\n",
    "path = r'C:\\Users\\tejas\\OneDrive\\Desktop\\iNeuron.ai'\n",
    "os.chdir(path)\n",
    "print(os.getcwd())"
   ]
  },
  {
   "cell_type": "markdown",
   "id": "30d72718",
   "metadata": {},
   "source": [
    "## 4.What are . and .. folders ?\n",
    "## Ans: \n",
    "'.' Represents the Current Directory Whereas '..' Represents the Parent Directory of the Current Directory\n",
    "\n",
    "## For Example: \n",
    "\n",
    "if the below path is my absolute path:\n",
    "C:\\\\Users\\\\tejas\\\\OneDrive\\Desktop\\\\iNeuron.ai\\\\Python Basic Assignments\n",
    "\n",
    "\n",
    "Then . represents the path C:\\\\Users\\\\tejas\\OneDrive\\\\Desktop\\\\iNeuron.ai\\\\Python Basic Assignments\n",
    "\n",
    "Where as .. represents the path C:\\\\Users\\\\tejas\\\\OneDrive\\\\Desktop\\\\iNeuron.ai"
   ]
  },
  {
   "cell_type": "markdown",
   "id": "9dcfb04f",
   "metadata": {},
   "source": [
    "## 5.In C:\\bacon\\eggs\\spam.txt which part is the dir name and which part is the base name ?\n",
    "## Ans: \n",
    "For C:\\bacon\\eggs\\spam.txt\n",
    "\n",
    "The dir name is C:\\\\bacon\\\\eggs\n",
    "\n",
    "The Base name is spam.txt"
   ]
  },
  {
   "cell_type": "code",
   "execution_count": 2,
   "id": "24daa262",
   "metadata": {},
   "outputs": [
    {
     "name": "stdout",
     "output_type": "stream",
     "text": [
      "C:\\bacon\\eggs\n",
      "spam.txt\n"
     ]
    }
   ],
   "source": [
    "import os\n",
    "path = r'C:\\bacon\\eggs\\spam.txt'\n",
    "print(os.path.dirname(path))\n",
    "print(os.path.basename(path))"
   ]
  },
  {
   "cell_type": "markdown",
   "id": "01b8befe",
   "metadata": {},
   "source": [
    "## 6.What are the three mode arguments that can be passed to the open() function ?\n",
    "## Ans:\n",
    " A file can be Accessed in python using open() function. open function takes two arguments filename and mode of operation (optional). if mode is not provided the default mode of opening is read mode\n",
    " \n",
    "So, the syntax being: open(filename, mode)\n",
    "\n",
    "1. ‘r’ – Read Mode: This is the default mode for open(). The file is opened and a pointer is positioned at the beginning of the file’s content.\n",
    "2. ‘w’ – Write Mode: Using this mode will overwrite any existing content in a file. If the given file does not exist, a new one will be created.\n",
    "3. ‘r+’ – Read/Write Mode: Use this mode if you need to simultaneously read and write to a file.\n",
    "4. ‘a’ – Append Mode: With this mode the user can append the data without overwriting any already existing data in the file.\n",
    "5. ‘a+’ – Append and Read Mode: In this mode you can read and append the data without overwriting the original file.\n",
    "6. ‘x’ – Exclusive Creating Mode: This mode is for the sole purpose of creating new files. Use this mode if you know the file to be written doesn’t exist beforehand."
   ]
  },
  {
   "cell_type": "markdown",
   "id": "bf7cd798",
   "metadata": {},
   "source": [
    "## 7.What happens if an existing file is opened in write mode ?\n",
    "## Ans: \n",
    "Using this mode will overwrite any existing content in a file. If the given file does not exist, a new one will be created."
   ]
  },
  {
   "cell_type": "markdown",
   "id": "2fa87639",
   "metadata": {},
   "source": [
    "## 8.How do you tell the difference between read() and readlines() ?\n",
    "## Ans: \n",
    "The main difference is that read() will read the whole file at once and then print out the first characters that take up as many bytes as you specify in the parenthesis\n",
    "* Whereas the readline() that will read and print out only the first characters that take up as many bytes as you specify in the parenthesis. You may want to use readline() when you're reading files that are too big for your RAM.\n",
    "* The read() would treat each character in the file separately, meaning that the iteration would happen for every character.\n",
    "* The readline() function, on the other hand, only reads a single line of the file. This means that if the first line of the file were three lines long, the readline() function would only parse (or iterate/operate) on the first line of the file.\n"
   ]
  },
  {
   "cell_type": "markdown",
   "id": "5fc419fc",
   "metadata": {},
   "source": [
    "## 9.What data structure does a shelf value resemble ?\n",
    "## Ans: \n",
    "it contains key and values it represents dictionary."
   ]
  },
  {
   "cell_type": "code",
   "execution_count": null,
   "id": "fbba092e",
   "metadata": {},
   "outputs": [],
   "source": []
  }
 ],
 "metadata": {
  "kernelspec": {
   "display_name": "Python 3 (ipykernel)",
   "language": "python",
   "name": "python3"
  },
  "language_info": {
   "codemirror_mode": {
    "name": "ipython",
    "version": 3
   },
   "file_extension": ".py",
   "mimetype": "text/x-python",
   "name": "python",
   "nbconvert_exporter": "python",
   "pygments_lexer": "ipython3",
   "version": "3.9.7"
  }
 },
 "nbformat": 4,
 "nbformat_minor": 5
}

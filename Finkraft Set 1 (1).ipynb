{
 "cells": [
  {
   "cell_type": "code",
   "execution_count": 5,
   "id": "bb40fe63",
   "metadata": {},
   "outputs": [
    {
     "name": "stdout",
     "output_type": "stream",
     "text": [
      "def\n"
     ]
    }
   ],
   "source": [
    "def LCS(string1,string2):\n",
    "    m = len(string1)\n",
    "    n = len(string2)\n",
    "    result = 0\n",
    "    end = 0\n",
    "    len_ = [[0 for x in range(n+1)] for y in range(m+1)]\n",
    "    for i in range(m+1):\n",
    "        for j in range(n+1):\n",
    "            if i == 0 or j == 0:\n",
    "                len_[i][j] = 0\n",
    "            elif string1[i-1] == string2[j-1]:\n",
    "                len_[i][j] = len_[i-1] [j-1] + 1\n",
    "                if len_[i][j] > result:\n",
    "                    result = len_[i][j]\n",
    "                    end = i-1\n",
    "                else:\n",
    "                    len_[i][j] = 0\n",
    "    return string1[end-result+1:end+1]\n",
    "\n",
    "string1 = \"abcdef\"\n",
    "string2 = \"defghi\"\n",
    "\n",
    "print(LCS(string1,string2))"
   ]
  },
  {
   "cell_type": "code",
   "execution_count": 6,
   "id": "e73f3651",
   "metadata": {},
   "outputs": [
    {
     "name": "stdout",
     "output_type": "stream",
     "text": [
      "(2, 7)\n"
     ]
    }
   ],
   "source": [
    "def TS(nums, target):\n",
    "    for i in range (len(nums)):\n",
    "        for j in range (i+1, len(nums)):\n",
    "            if nums[i] + nums[j] == target:\n",
    "                return (nums[i], nums[j])\n",
    "    return None \n",
    "nums = [2, 7, 11, 15]\n",
    "target = 9\n",
    "result = TS(nums, target)\n",
    "print(result)"
   ]
  },
  {
   "cell_type": "code",
   "execution_count": null,
   "id": "01e79a34",
   "metadata": {},
   "outputs": [],
   "source": []
  }
 ],
 "metadata": {
  "kernelspec": {
   "display_name": "Python 3 (ipykernel)",
   "language": "python",
   "name": "python3"
  },
  "language_info": {
   "codemirror_mode": {
    "name": "ipython",
    "version": 3
   },
   "file_extension": ".py",
   "mimetype": "text/x-python",
   "name": "python",
   "nbconvert_exporter": "python",
   "pygments_lexer": "ipython3",
   "version": "3.9.7"
  }
 },
 "nbformat": 4,
 "nbformat_minor": 5
}
